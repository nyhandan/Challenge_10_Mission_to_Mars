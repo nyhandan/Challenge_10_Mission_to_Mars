{
 "cells": [
  {
   "cell_type": "code",
   "execution_count": null,
   "id": "2eeddbfc",
   "metadata": {},
   "outputs": [],
   "source": [
    "#Deliverable 2"
   ]
  },
  {
   "cell_type": "code",
   "execution_count": 3,
   "id": "d9a9c7f3",
   "metadata": {},
   "outputs": [],
   "source": [
    "from flask import Flask, render_template, redirect, url_for\n",
    "from flask_pymongo import PyMongo\n",
    "app = Flask(__name__)\n",
    "\n",
    "# Use flask_pymongo to set up mongo connection\n",
    "app.config[\"MONGO_URI\"] = \"mongodb://localhost:27017/mars_app\"\n",
    "mongo = PyMongo(app)"
   ]
  },
  {
   "cell_type": "code",
   "execution_count": 4,
   "id": "680e41cd",
   "metadata": {},
   "outputs": [],
   "source": [
    "@app.route(\"/scrape\")\n",
    "def scrape():\n",
    "    mars = mongo.db.mars\n",
    "    mars_data = scraping.scrape_all()\n",
    "    mars.update_one({}, {\"$set\":mars_data}, upsert=True)\n",
    "    return redirect('/', code=302)"
   ]
  },
  {
   "cell_type": "code",
   "execution_count": 5,
   "id": "0356d35c",
   "metadata": {},
   "outputs": [],
   "source": [
    "app = Flask(__name__)"
   ]
  },
  {
   "cell_type": "code",
   "execution_count": 6,
   "id": "93846844",
   "metadata": {},
   "outputs": [],
   "source": [
    "# Use flask_pymongo to set up mongo connection\n",
    "app.config[\"MONGO_URI\"] = \"mongodb://localhost:27017/mars_app\"\n",
    "mongo = PyMongo(app)"
   ]
  },
  {
   "cell_type": "code",
   "execution_count": 7,
   "id": "9b6c6c64",
   "metadata": {},
   "outputs": [],
   "source": [
    "@app.route(\"/\")\n",
    "def index():\n",
    "   mars = mongo.db.mars.find_one()\n",
    "   return render_template(\"index.html\", mars=mars)"
   ]
  },
  {
   "cell_type": "code",
   "execution_count": 8,
   "id": "8008efcc",
   "metadata": {},
   "outputs": [],
   "source": [
    "def scrape_all():\n",
    "    # Initiate headless driver for deployment\n",
    "    executable_path = {'executable_path': ChromeDriverManager().install()}\n",
    "    browser = Browser('chrome', **executable_path, headless=True)\n",
    "    # Run all scraping functions and store results in dictionary\n",
    "    data = {\n",
    "      \"news_title\": news_title,\n",
    "      \"news_paragraph\": news_paragraph,\n",
    "      \"featured_image\": featured_image(browser),\n",
    "      \"facts\": mars_facts(),\n",
    "      \"last_modified\": dt.datetime.now()\n",
    "    }"
   ]
  },
  {
   "cell_type": "code",
   "execution_count": 9,
   "id": "39988bca",
   "metadata": {},
   "outputs": [],
   "source": [
    "def mars_facts():\n",
    "    # Add try/except for error handling\n",
    "    try:\n",
    "        # Use 'read_html' to scrape the facts table into a dataframe\n",
    "        df = pd.read_html('https://galaxyfacts-mars.com')[0]\n",
    "\n",
    "    except BaseException:\n",
    "        return None\n",
    "\n",
    "    # Assign columns and set index of dataframe\n",
    "    df.columns=['Description', 'Mars', 'Earth']\n",
    "    df.set_index('Description', inplace=True)\n",
    "\n",
    "    # Convert dataframe into HTML format, add bootstrap\n",
    "    return df.to_html()"
   ]
  },
  {
   "cell_type": "code",
   "execution_count": 10,
   "id": "89ac2d33",
   "metadata": {},
   "outputs": [],
   "source": [
    "def data_scrape():\n",
    "\n",
    "    # 2. Create a list to hold the images and titles.\n",
    "    hemisphere_image_urls = []\n",
    "\n",
    "    # 3. Write code to retrieve the image urls and titles for each hemisphere.\n",
    "\n",
    "    html = browser.html\n",
    "    url_soup = soup(html, 'html.parser')\n",
    "\n",
    "    links = url_soup.find_all('div', class_='item')\n",
    "\n",
    "    url = 'https://marshemispheres.com/'\n",
    "\n",
    "    for link in links:\n",
    "        navigate = link.find('a')['href']\n",
    "\n",
    "        browser.visit(url+navigate)\n",
    "\n",
    "\n",
    "\n",
    "        hemisphere_pages = browser.html\n",
    "        hemisphere_pages_soup = soup(hemisphere_pages, 'html.parser')\n",
    "\n",
    "        title = hemisphere_pages_soup.find('h2', class_ = 'title').text\n",
    "        image_url = hemisphere_pages_soup.find('img', class_ = 'wide-image')['src']    \n",
    "\n",
    "        hemisphere_image_urls.append({\"title\": title, \"img url\": image_url})\n",
    "\n",
    "    return hemisphere_image_urls\n"
   ]
  },
  {
   "cell_type": "code",
   "execution_count": 9,
   "id": "e35c74e6",
   "metadata": {},
   "outputs": [],
   "source": [
    "# steps 4 through 8"
   ]
  },
  {
   "cell_type": "code",
   "execution_count": null,
   "id": "903a10fa",
   "metadata": {},
   "outputs": [],
   "source": [
    "if __name__ == \"__main__\":\n",
    "    app.run()"
   ]
  },
  {
   "cell_type": "code",
   "execution_count": null,
   "id": "15775e3d",
   "metadata": {},
   "outputs": [],
   "source": [
    "    # Add try/except for error handling\n",
    "    try:\n",
    "        slide_elem = news_soup.select_one('div.list_text')\n",
    "        # Use the parent element to find the first 'a' tag and save it as 'news_title'\n",
    "        news_title = slide_elem.find('div', class_='content_title').get_text()\n",
    "        # Use the parent element to find the paragraph text\n",
    "        news_p = slide_elem.find('div', class_='article_teaser_body').get_text()"
   ]
  },
  {
   "cell_type": "code",
   "execution_count": null,
   "id": "ba586da6",
   "metadata": {},
   "outputs": [],
   "source": [
    "except AttributeError:\n",
    "        return None, None"
   ]
  },
  {
   "cell_type": "code",
   "execution_count": null,
   "id": "dc02e19f",
   "metadata": {},
   "outputs": [],
   "source": [
    "def mars_news(browser):\n",
    "\n",
    "    # Scrape Mars News\n",
    "    # Visit the mars nasa news site\n",
    "    url = 'https://redplanetscience.com/'\n",
    "    browser.visit(url)\n",
    "\n",
    "    # Optional delay for loading the page\n",
    "    browser.is_element_present_by_css('div.list_text', wait_time=1)\n",
    "\n",
    "    # Convert the browser html to a soup object and then quit the browser\n",
    "    html = browser.html\n",
    "    news_soup = soup(html, 'html.parser')\n",
    "\n",
    "    \n",
    "    # Add try/except for error handling\n",
    "    try:\n",
    "        slide_elem = news_soup.select_one('div.list_text')\n",
    "        # Use the parent element to find the first 'a' tag and save it as 'news_title'\n",
    "        news_title = slide_elem.find('div', class_='content_title').get_text()\n",
    "        # Use the parent element to find the paragraph text\n",
    "        news_p = slide_elem.find('div', class_='article_teaser_body').get_text()\n",
    "\n",
    "    except AttributeError:\n",
    "        return None, None\n",
    "\n",
    "    \n",
    "    return news_title, news_p"
   ]
  },
  {
   "cell_type": "code",
   "execution_count": null,
   "id": "ad70104f",
   "metadata": {},
   "outputs": [],
   "source": [
    "try:\n",
    "   # find the relative image url\n",
    "   img_url_rel = img_soup.find('img', class_='fancybox-image').get('src')\n",
    "\n",
    "except AttributeError:\n",
    "    return None"
   ]
  },
  {
   "cell_type": "code",
   "execution_count": null,
   "id": "47518e42",
   "metadata": {},
   "outputs": [],
   "source": []
  }
 ],
 "metadata": {
  "kernelspec": {
   "display_name": "PythonData",
   "language": "python",
   "name": "pythondata"
  },
  "language_info": {
   "codemirror_mode": {
    "name": "ipython",
    "version": 3
   },
   "file_extension": ".py",
   "mimetype": "text/x-python",
   "name": "python",
   "nbconvert_exporter": "python",
   "pygments_lexer": "ipython3",
   "version": "3.9.7"
  }
 },
 "nbformat": 4,
 "nbformat_minor": 5
}
